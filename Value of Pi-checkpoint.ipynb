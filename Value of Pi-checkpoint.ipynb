{
 "cells": [
  {
   "cell_type": "markdown",
   "metadata": {},
   "source": [
    "Create a Python project to get the value of Pi to n number of decimal places.\n",
    "\n",
    "Note: Input a number and the program will generate PI to the 'nth digit'."
   ]
  },
  {
   "cell_type": "code",
   "execution_count": 4,
   "metadata": {},
   "outputs": [
    {
     "name": "stdout",
     "output_type": "stream",
     "text": [
      "Enter the number of digits you want after the decimal for Pi: 4\n",
      "3.1416\n"
     ]
    }
   ],
   "source": [
    "\n",
    "import math \n",
    "\n",
    "def CalculatePi(roundVal):\n",
    "    \n",
    "\n",
    "        somepi = round(math.pi,roundVal);\n",
    "        pi = str(somepi)\n",
    "        someList = list(pi)\n",
    "        return somepi;\n",
    "    \n",
    "    \n",
    "    \n",
    "roundTo = input('Enter the number of digits you want after the decimal for Pi: ')\n",
    "try:\n",
    "    \n",
    "    \n",
    "    roundint = int(roundTo);\n",
    "    print(CalculatePi(roundint));\n",
    "    \n",
    "    \n",
    "except:\n",
    "    print(\"You did not enter an integer\");"
   ]
  }
 ],
 "metadata": {
  "kernelspec": {
   "display_name": "Python 3",
   "language": "python",
   "name": "python3"
  },
  "language_info": {
   "codemirror_mode": {
    "name": "ipython",
    "version": 3
   },
   "file_extension": ".py",
   "mimetype": "text/x-python",
   "name": "python",
   "nbconvert_exporter": "python",
   "pygments_lexer": "ipython3",
   "version": "3.8.3"
  }
 },
 "nbformat": 4,
 "nbformat_minor": 4
}
