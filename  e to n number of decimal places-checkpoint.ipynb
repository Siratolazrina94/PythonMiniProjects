{
 "cells": [
  {
   "cell_type": "markdown",
   "metadata": {},
   "source": [
    "Create a Python project to get the value of e to n number of decimal places.\n",
    "\n",
    "Note: Input a number and the program will generate e to the 'nth digit."
   ]
  },
  {
   "cell_type": "code",
   "execution_count": 5,
   "metadata": {},
   "outputs": [
    {
     "name": "stdout",
     "output_type": "stream",
     "text": [
      "Please enter how many decimal places you would like returned for e: 12\n",
      "2.718281828459\n"
     ]
    }
   ],
   "source": [
    "# Use of decimal module due to increased precision compared to float()\n",
    "\n",
    "import decimal\n",
    "\n",
    "# The factorial is defined as 1 in order to find e from a nested series.\n",
    "\n",
    "factorial = 1\n",
    "\n",
    "# e is defined as 2 in order to begin the sequence of 2.xxxx.\n",
    "\n",
    "e = 2\n",
    "\n",
    "\n",
    "# The larger the range, the higher degree of accuracy for euler's number.\n",
    "# The two lines below perform the nested series calculation in order to find e.\n",
    "\n",
    "for number in range(2, 50):\n",
    "    factorial *= number\n",
    "    e += decimal.Decimal(1.0) / decimal.Decimal(factorial)\n",
    "\n",
    "# Now that e has been calculated, the user can input the number of decimal places desired.\n",
    "\n",
    "decimal_places = int(input(\"Please enter how many decimal places you would like returned for e: \"))\n",
    "\n",
    "while decimal_places > 20:\n",
    "    \n",
    "    print(\"Sorry, cannot compute fractional part greater than 20.\")\n",
    "    decimal_places = int(input(\"Please enter how many decimal places you would like returned for e: \"))\n",
    "    \n",
    "   \n",
    "else:\n",
    "# The '+2' slice accounts for the beginning two characters of '2.' \n",
    "\n",
    "    print(str(e)[0:decimal_places+2])\n",
    "    "
   ]
  }
 ],
 "metadata": {
  "kernelspec": {
   "display_name": "Python 3",
   "language": "python",
   "name": "python3"
  },
  "language_info": {
   "codemirror_mode": {
    "name": "ipython",
    "version": 3
   },
   "file_extension": ".py",
   "mimetype": "text/x-python",
   "name": "python",
   "nbconvert_exporter": "python",
   "pygments_lexer": "ipython3",
   "version": "3.8.3"
  }
 },
 "nbformat": 4,
 "nbformat_minor": 4
}
